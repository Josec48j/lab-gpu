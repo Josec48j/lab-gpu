{
 "cells": [
  {
   "cell_type": "markdown",
   "metadata": {},
   "source": [
    "## Reduction operation: the sum of the numbers in the range [0, value)"
   ]
  },
  {
   "cell_type": "code",
   "execution_count": 1,
   "metadata": {},
   "outputs": [
    {
     "name": "stdout",
     "output_type": "stream",
     "text": [
      "Time taken by reduction operation using a function: 2.62 ms ± 8.27 µs per loop (mean ± std. dev. of 2 runs, 100 loops each)\n",
      "And the result of the sum of numbers in the range [0, value) is: 24995.051343753086\n",
      "\n",
      "Time taken by reduction operation using numpy.sum(): 7.88 µs ± 8.1 ns per loop (mean ± std. dev. of 2 runs, 100,000 loops each)\n",
      "Now, the result using numpy.sum(): 24995.051343752984 \n",
      " \n",
      "Time taken by reduction operation using numpy.ndarray.sum(): 7.14 µs ± 0.478 ns per loop (mean ± std. dev. of 2 runs, 100,000 loops each)\n",
      "Now, the result using numpy.ndarray.sum(): 24995.051343752984\n"
     ]
    }
   ],
   "source": [
    "import numpy as np\n",
    "\n",
    "def reduc_operation(A):\n",
    "    \"\"\"Compute the sum of the elements of Array A in the range [0, value).\"\"\"\n",
    "    s = 0\n",
    "    for i in range(A.size):\n",
    "        s += A[i]\n",
    "    return s\n",
    "\n",
    "# Secuencial\n",
    "\n",
    "value = 5*10**4\n",
    "\n",
    "X = np.random.rand(value)\n",
    "\n",
    "# Para imprimir los pimeros valores del array\n",
    "\n",
    "# print(X[0:12])\n",
    "\n",
    "# Utilizando las operaciones mágicas de ipython\n",
    "\n",
    "tiempo = %timeit -r 2 -o -q reduc_operation(X)\n",
    "\n",
    "print(\"Time taken by reduction operation using a function:\", tiempo)\n",
    "\n",
    "\n",
    "print(f\"And the result of the sum of numbers in the range [0, value) is: {reduc_operation(X)}\\n\")\n",
    "\n",
    "\n",
    "# Utilizando numpy.sum()\n",
    "\n",
    "tiempo = %timeit -r 2 -o -q np.sum(X)\n",
    "\n",
    "print(\"Time taken by reduction operation using numpy.sum():\", tiempo)\n",
    "\n",
    "print(\"Now, the result using numpy.sum():\", np.sum(X),\"\\n \")\n",
    "\n",
    "\n",
    "# Utilizando numpy.ndarray.sum()\n",
    "\n",
    "tiempo= %timeit -r 2 -o -q X.sum()\n",
    "\n",
    "print(\"Time taken by reduction operation using numpy.ndarray.sum():\", tiempo)\n",
    "\n",
    "print(\"Now, the result using numpy.ndarray.sum():\", X.sum())"
   ]
  },
  {
   "cell_type": "markdown",
   "metadata": {},
   "source": [
    "a) Librería multiprocessing: En la siguiente celda de código del notebook4 vas a utilizar el paquete multiprocessing para acelerar la operación de reducción. Para ello, importa Pool de la librería multiprocessing, y con la función map llama a la función reduc_operation creando solo un proceso con el tamaño del array original de [0, value], creando 2 procesos llamándolos con 2 arrays que tienen la copia de los valores del array original pero de tamaños [0, int(value/2)] y [int(value/2), value)], y creando 4 procesos que llaman a la función con 4 arrays que tienen la copia de los valores del array original pero de tamaños [0, int(value/4)], [int(value/4), int(value/2)], [int(value/2), int(3*value/4)] y [int(3*value/4), value]. Como verás, el tiempo para calcular la suma va disminuyendo cada vez\n",
    " que duplicas el número de procesos (cores) que usas."
   ]
  },
  {
   "cell_type": "code",
   "execution_count": 4,
   "metadata": {},
   "outputs": [
    {
     "name": "stdout",
     "output_type": "stream",
     "text": [
      "Tiempo para la operación de reducción secuencial:\n",
      "Time taken by reduction operation using a single process: 84.5 ms ± 831 µs per loop (mean ± std. dev. of 2 runs, 10 loops each)\n",
      "Resultado de la suma secuencial: 24950.801135787468\n",
      "\n",
      "\n",
      "Tiempo para la operación de reducción con 1 procesos:\n",
      "Time taken by reduction operation using 1 processes: 119 ms ± 190 µs per loop (mean ± std. dev. of 2 runs, 10 loops each)\n",
      "Resultado de la suma con 1 procesos: 24950.801135787468\n",
      "\n",
      "Tiempo para la operación de reducción con 2 procesos:\n",
      "Time taken by reduction operation using 2 processes: 91 ms ± 361 µs per loop (mean ± std. dev. of 2 runs, 10 loops each)\n",
      "Resultado de la suma con 2 procesos: 24950.801135787482\n",
      "\n",
      "Tiempo para la operación de reducción con 4 procesos:\n",
      "Time taken by reduction operation using 4 processes: 111 ms ± 3.71 ms per loop (mean ± std. dev. of 2 runs, 10 loops each)\n",
      "Resultado de la suma con 4 procesos: 24950.801135787307\n"
     ]
    }
   ],
   "source": [
    "import numpy as np\n",
    "from multiprocessing import Pool\n",
    "\n",
    "# Definimos la función para la operación de reducción\n",
    "def reduc_operation(A):\n",
    "    \"\"\"Compute the sum of the elements of Array A in the range [0, value).\"\"\"\n",
    "    s = 0\n",
    "    for i in range(A.size):\n",
    "        s += A[i]\n",
    "    return s\n",
    "\n",
    "# Secuencial\n",
    "value = 5 * 10**4  # Tamaño del array\n",
    "X = np.random.rand(value)  # Array con valores aleatorios\n",
    "\n",
    "# Tiempo secuencial\n",
    "print(\"Tiempo para la operación de reducción secuencial:\")\n",
    "tiempo = %timeit -r 2 -o -q reduc_operation(X)\n",
    "print(\"Time taken by reduction operation using a single process:\", tiempo)\n",
    "print(f\"Resultado de la suma secuencial: {reduc_operation(X)}\\n\")\n",
    "\n",
    "\n",
    "# Divisiones del array para multiprocessing\n",
    "def dividir_array(value, num_procesos):\n",
    "    \"\"\"Divide el array en `num_procesos` subarrays según el esquema definido.\"\"\"\n",
    "    if num_procesos == 1:\n",
    "        return [X[0:value]]  # Una sola partición [0, value]\n",
    "    elif num_procesos == 2:\n",
    "        mitad = int(value / 2)\n",
    "        return [X[0:mitad], X[mitad:value]]  # Dos particiones [0, mitad] y [mitad, value]\n",
    "    elif num_procesos == 4:\n",
    "        cuarto = int(value / 4)\n",
    "        mitad = int(value / 2)\n",
    "        tres_cuartos = int(3 * value / 4)\n",
    "        return [X[0:cuarto], X[cuarto:mitad], X[mitad:tres_cuartos], X[tres_cuartos:value]]  # Cuatro particiones\n",
    "    else:\n",
    "        raise ValueError(\"Número de procesos no soportado. Use 1, 2 o 4.\")\n",
    "\n",
    "# Utilizando multiprocessing con 1, 2 y 4 procesos\n",
    "for num_procesos in [1, 2, 4]:\n",
    "    print(f\"\\nTiempo para la operación de reducción con {num_procesos} procesos:\")\n",
    "\n",
    "    # Dividimos el array según el número de procesos\n",
    "    subarrays = dividir_array(value, num_procesos)\n",
    "\n",
    "    # Definimos una función para ejecutar multiprocessing\n",
    "    def run_parallel_reduction():\n",
    "        with Pool(processes=num_procesos) as pool:\n",
    "            # Usamos map para aplicar reduc_operation a cada subarray\n",
    "            resultados = pool.map(reduc_operation, subarrays)\n",
    "        return sum(resultados)\n",
    "\n",
    "    # Medimos el tiempo usando %timeit\n",
    "    tiempo = %timeit -r 2 -o -q run_parallel_reduction()\n",
    "    resultado = run_parallel_reduction()\n",
    "\n",
    "    print(f\"Time taken by reduction operation using {num_procesos} processes: {tiempo}\")\n",
    "    print(f\"Resultado de la suma con {num_procesos} procesos: {resultado}\")"
   ]
  },
  {
   "cell_type": "markdown",
   "metadata": {},
   "source": [
    "b) Libreria Numba: En la siguiente celda de código vamos a utilizar el paquete numba. Importa de dicho paquete njit y prange, y haz 2 nuevas versiones de la función original reduc_operation(A) decorándolas con el decorador @njit y @njit(parallel=True)5 respectivamente. Como ya vimos en la práctica anterior, solo con utilizar @njit se mejora mucho el tiempo de ejecución, pero si además ejecutamos en paralelo aún se nota una mayor reducción de tiempo."
   ]
  },
  {
   "cell_type": "code",
   "execution_count": 7,
   "metadata": {},
   "outputs": [
    {
     "name": "stdout",
     "output_type": "stream",
     "text": [
      "Tiempo para la función original:\n",
      "Tiempo: 8.24 s ± 22.5 ms per loop (mean ± std. dev. of 2 runs, 1 loop each)\n",
      "Resultado: 2500385.989518582 \n",
      "\n",
      "Tiempo para la función con @njit:\n",
      "Tiempo: 20.4 ms ± 15.7 µs per loop (mean ± std. dev. of 2 runs, 1 loop each)\n",
      "Resultado: 2500385.989518582 \n",
      "\n",
      "Tiempo para la función con @njit(parallel=True):\n",
      "Tiempo: 7.8 ms ± 911 µs per loop (mean ± std. dev. of 2 runs, 1 loop each)\n",
      "Resultado: 2500385.9895190033 \n",
      "\n"
     ]
    }
   ],
   "source": [
    "import numpy as np\n",
    "from numba import njit, prange\n",
    "\n",
    "# Función original (sin optimización)\n",
    "def reduc_operation(A):\n",
    "    \"\"\"Compute the sum of the elements of Array A in the range [0, value).\"\"\"\n",
    "    s = 0\n",
    "    for i in range(A.size):\n",
    "        s += A[i]\n",
    "    return s\n",
    "\n",
    "# Optimización con @njit\n",
    "@njit\n",
    "def reduc_operation_njit(A):\n",
    "    \"\"\"Compute the sum of the elements of Array A using Numba's njit.\"\"\"\n",
    "    s = 0\n",
    "    for i in range(A.size):\n",
    "        s += A[i]\n",
    "    return s\n",
    "\n",
    "# Optimización con @njit(parallel=True) y prange\n",
    "@njit(parallel=True)\n",
    "def reduc_operation_parallel(A):\n",
    "    \"\"\"Compute the sum of the elements of Array A using Numba's parallel njit.\"\"\"\n",
    "    s = 0.0\n",
    "    # Paralelizamos el bucle con prange\n",
    "    for i in prange(A.size):\n",
    "        s += A[i]\n",
    "    return s\n",
    "\n",
    "\n",
    "# Tamaño del array\n",
    "value = 5 * 10**6  # Un tamaño suficientemente grande para observar diferencias\n",
    "X = np.random.rand(value)  # Array aleatorio de valores entre 0 y 1\n",
    "\n",
    "# Comparación de tiempos\n",
    "print(\"Tiempo para la función original:\")\n",
    "tiempo = %timeit -r 2 -o -q reduc_operation(X)\n",
    "print(\"Tiempo:\", tiempo)\n",
    "print(f\"Resultado:\", reduc_operation(X), \"\\n\")\n",
    "\n",
    "print(\"Tiempo para la función con @njit:\")\n",
    "tiempo = %timeit -r 2 -o -q reduc_operation_njit(X)\n",
    "print(\"Tiempo:\", tiempo)\n",
    "print(f\"Resultado:\", reduc_operation_njit(X), \"\\n\")\n",
    "\n",
    "print(\"Tiempo para la función con @njit(parallel=True):\")\n",
    "tiempo = %timeit -r 2 -o -q reduc_operation_parallel(X)\n",
    "print(\"Tiempo:\", tiempo)\n",
    "print(f\"Resultado:\", reduc_operation_parallel(X), \"\\n\")"
   ]
  },
  {
   "cell_type": "markdown",
   "metadata": {},
   "source": [
    "c) Finalmente, para que podamos variar el número de elementos con mayor comodidad, haz una modificación en el notebook original que permita darle el valor del número de elementos (variable value) por la línea de comandos al lanzar a ejecutar el notebook con el gestor de colas sbatch. Una vez hecho esto, vamos a lanzar a ejecutar dicho notebook a otra cola de tu elección por medio del intérprete ipython. Recuerda que dicho notebook debe estar en tu directorio de trabajo de ibsen (subdirectorio lab-gpu) y en el directorio de trabajo de la correspondiente cola. Una vez hecho esto, crea el shell script que va a usar el comando sbatch para lanzar con SLURM a dicha cola y medir el tiempo de ejecución. Llama a este fichero submit_reduc_oper-Par_machine-name-login.sh6. Lánzalo con el valor de 5 ∗107 elementos."
   ]
  },
  {
   "cell_type": "code",
   "execution_count": 1,
   "metadata": {},
   "outputs": [
    {
     "name": "stdout",
     "output_type": "stream",
     "text": [
      "Valor de 'value' (modo interactivo) establecido en: 50000\n",
      "Tiempo para la función original:\n",
      "Resultado: 25021.667500700056\n",
      "Tiempo para la función con @njit:\n",
      "Resultado: 25021.667500700056\n",
      "Tiempo para la función con @njit(parallel=True):\n",
      "Resultado: 25021.667500700027\n"
     ]
    }
   ],
   "source": [
    "import sys\n",
    "import numpy as np\n",
    "from numba import njit, prange\n",
    "\n",
    "# Detectar si estamos en un entorno interactivo (como IPython) o no\n",
    "if 'ipykernel' in sys.modules:\n",
    "    # Estamos en un entorno interactivo (IPython), no usamos los argumentos de la línea de comandos\n",
    "    value = 5 * 10**4\n",
    "    print(f\"Valor de 'value' (modo interactivo) establecido en: {value}\")\n",
    "else:\n",
    "    # Estamos en un entorno no interactivo (ejecución desde sbatch o línea de comandos)\n",
    "    if len(sys.argv) > 1:\n",
    "        try:\n",
    "            value = int(sys.argv[1])  # Toma el valor del argumento como el tamaño del array\n",
    "        except ValueError:\n",
    "            print(\"Error: El valor proporcionado para 'value' no es un número entero válido.\")\n",
    "            sys.exit(1)  # Salir con error\n",
    "    else:\n",
    "        value = 5 * 10**4  # Valor por defecto si no se pasa ningún argumento\n",
    "    print(f\"Valor de 'value' establecido en: {value}\")\n",
    "\n",
    "# Crear un array de tamaño 'value'\n",
    "X = np.random.rand(value)\n",
    "\n",
    "# Función original y versiones optimizadas con @njit\n",
    "def reduc_operation(A):\n",
    "    s = 0\n",
    "    for i in range(A.size):\n",
    "        s += A[i]\n",
    "    return s\n",
    "\n",
    "@njit\n",
    "def reduc_operation_njit(A):\n",
    "    s = 0\n",
    "    for i in range(A.size):\n",
    "        s += A[i]\n",
    "    return s\n",
    "\n",
    "@njit(parallel=True)\n",
    "def reduc_operation_parallel(A):\n",
    "    s = 0.0\n",
    "    for i in prange(A.size):\n",
    "        s += A[i]\n",
    "    return s\n",
    "\n",
    "# Pruebas de tiempos\n",
    "print(\"Tiempo para la función original:\")\n",
    "print(f\"Resultado:\", reduc_operation(X))\n",
    "\n",
    "print(\"Tiempo para la función con @njit:\")\n",
    "print(f\"Resultado:\", reduc_operation_njit(X))\n",
    "\n",
    "print(\"Tiempo para la función con @njit(parallel=True):\")\n",
    "print(f\"Resultado:\", reduc_operation_parallel(X))"
   ]
  },
  {
   "cell_type": "markdown",
   "id": "bac4882d",
   "metadata": {},
   "source": [
    "d) Crea una nueva celda de texto debajo de la última celda de código para mostrar y explicar los resultados obtenidos por los 2 paquetes utilizados (multiprocessing y numba)."
   ]
  },
  {
   "cell_type": "markdown",
   "id": "cea8c880",
   "metadata": {},
   "source": [
    "En este ejercicio, se compararon dos enfoques para optimizar una operación de reducción: multiprocessing y numba. El uso de multiprocessing mostró una mejora en el tiempo de ejecución al aumentar el número de procesos, pero después de cierto punto, la sobrecarga de gestión de los procesos hizo que el rendimiento no mejorara significativamente. Por otro lado, numba demostró ser mucho más eficiente, especialmente al utilizar la compilación Just-in-Time (JIT) con @njit y la paralelización de hilos con @njit(parallel=True). La optimización con numba redujo considerablemente los tiempos de ejecución, destacándose especialmente cuando se utilizó la paralelización. En resumen, para este tipo de operaciones de reducción en arrays, numba resultó ser la opción más eficaz y rápida, superando a multiprocessing en términos de rendimiento."
   ]
  }
 ],
 "metadata": {
  "kernelspec": {
   "display_name": "Python 3",
   "language": "python",
   "name": "python3"
  },
  "language_info": {
   "codemirror_mode": {
    "name": "ipython",
    "version": 3
   },
   "file_extension": ".py",
   "mimetype": "text/x-python",
   "name": "python",
   "nbconvert_exporter": "python",
   "pygments_lexer": "ipython3",
   "version": "3.8.5"
  }
 },
 "nbformat": 4,
 "nbformat_minor": 5
}
